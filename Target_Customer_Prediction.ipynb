{
 "cells": [
  {
   "cell_type": "markdown",
   "metadata": {},
   "source": [
    "## Target Customer Prediction Using Machine Learning Models"
   ]
  },
  {
   "cell_type": "code",
   "execution_count": 1,
   "metadata": {},
   "outputs": [],
   "source": [
    "# import necessary libraries\n",
    "import matplotlib.pyplot as plt\n",
    "import numpy as np\n",
    "import pandas as pd\n",
    "import seaborn as sns"
   ]
  },
  {
   "cell_type": "code",
   "execution_count": 2,
   "metadata": {},
   "outputs": [],
   "source": [
    "# load data into the pandas dataframe\n",
    "customer_df = pd.read_csv('P2_Data.csv')"
   ]
  },
  {
   "cell_type": "code",
   "execution_count": 3,
   "metadata": {},
   "outputs": [
    {
     "data": {
      "text/html": [
       "<div>\n",
       "<style scoped>\n",
       "    .dataframe tbody tr th:only-of-type {\n",
       "        vertical-align: middle;\n",
       "    }\n",
       "\n",
       "    .dataframe tbody tr th {\n",
       "        vertical-align: top;\n",
       "    }\n",
       "\n",
       "    .dataframe thead th {\n",
       "        text-align: right;\n",
       "    }\n",
       "</style>\n",
       "<table border=\"1\" class=\"dataframe\">\n",
       "  <thead>\n",
       "    <tr style=\"text-align: right;\">\n",
       "      <th></th>\n",
       "      <th>F1</th>\n",
       "      <th>F2</th>\n",
       "      <th>F3</th>\n",
       "      <th>F4</th>\n",
       "      <th>F5</th>\n",
       "      <th>F6</th>\n",
       "      <th>F7</th>\n",
       "      <th>F8</th>\n",
       "      <th>F9</th>\n",
       "      <th>F10</th>\n",
       "      <th>F11</th>\n",
       "      <th>F12</th>\n",
       "      <th>F13</th>\n",
       "      <th>F14</th>\n",
       "      <th>F15</th>\n",
       "      <th>Class</th>\n",
       "    </tr>\n",
       "  </thead>\n",
       "  <tbody>\n",
       "    <tr>\n",
       "      <th>0</th>\n",
       "      <td>20</td>\n",
       "      <td>-21.42</td>\n",
       "      <td>13.1</td>\n",
       "      <td>464.04</td>\n",
       "      <td>-6.10</td>\n",
       "      <td>-4.50</td>\n",
       "      <td>-18.66</td>\n",
       "      <td>27.54</td>\n",
       "      <td>20.1</td>\n",
       "      <td>-7.08</td>\n",
       "      <td>-16.32</td>\n",
       "      <td>365</td>\n",
       "      <td>0.47</td>\n",
       "      <td>3.40</td>\n",
       "      <td>-3.90</td>\n",
       "      <td>False</td>\n",
       "    </tr>\n",
       "    <tr>\n",
       "      <th>1</th>\n",
       "      <td>20</td>\n",
       "      <td>-27.12</td>\n",
       "      <td>13.5</td>\n",
       "      <td>299.04</td>\n",
       "      <td>-6.18</td>\n",
       "      <td>-4.91</td>\n",
       "      <td>-18.66</td>\n",
       "      <td>27.44</td>\n",
       "      <td>18.2</td>\n",
       "      <td>-12.84</td>\n",
       "      <td>-11.07</td>\n",
       "      <td>205</td>\n",
       "      <td>-129.53</td>\n",
       "      <td>7.12</td>\n",
       "      <td>NaN</td>\n",
       "      <td>False</td>\n",
       "    </tr>\n",
       "    <tr>\n",
       "      <th>2</th>\n",
       "      <td>20</td>\n",
       "      <td>-33.87</td>\n",
       "      <td>10.5</td>\n",
       "      <td>854.04</td>\n",
       "      <td>-9.32</td>\n",
       "      <td>-7.16</td>\n",
       "      <td>-18.66</td>\n",
       "      <td>25.44</td>\n",
       "      <td>11.9</td>\n",
       "      <td>-5.46</td>\n",
       "      <td>-11.01</td>\n",
       "      <td>330</td>\n",
       "      <td>-44.53</td>\n",
       "      <td>4.62</td>\n",
       "      <td>-3.84</td>\n",
       "      <td>False</td>\n",
       "    </tr>\n",
       "    <tr>\n",
       "      <th>3</th>\n",
       "      <td>20</td>\n",
       "      <td>-25.38</td>\n",
       "      <td>19.4</td>\n",
       "      <td>809.04</td>\n",
       "      <td>-12.69</td>\n",
       "      <td>-4.95</td>\n",
       "      <td>-23.66</td>\n",
       "      <td>25.54</td>\n",
       "      <td>19.6</td>\n",
       "      <td>-11.31</td>\n",
       "      <td>-7.53</td>\n",
       "      <td>215</td>\n",
       "      <td>-54.53</td>\n",
       "      <td>2.26</td>\n",
       "      <td>NaN</td>\n",
       "      <td>False</td>\n",
       "    </tr>\n",
       "    <tr>\n",
       "      <th>4</th>\n",
       "      <td>20</td>\n",
       "      <td>-23.22</td>\n",
       "      <td>16.0</td>\n",
       "      <td>359.04</td>\n",
       "      <td>-7.70</td>\n",
       "      <td>-4.36</td>\n",
       "      <td>-8.66</td>\n",
       "      <td>26.64</td>\n",
       "      <td>25.8</td>\n",
       "      <td>-12.69</td>\n",
       "      <td>-10.20</td>\n",
       "      <td>85</td>\n",
       "      <td>-134.53</td>\n",
       "      <td>-0.20</td>\n",
       "      <td>-7.76</td>\n",
       "      <td>True</td>\n",
       "    </tr>\n",
       "  </tbody>\n",
       "</table>\n",
       "</div>"
      ],
      "text/plain": [
       "   F1     F2    F3      F4     F5    F6     F7     F8    F9    F10    F11  \\\n",
       "0  20 -21.42  13.1  464.04  -6.10 -4.50 -18.66  27.54  20.1  -7.08 -16.32   \n",
       "1  20 -27.12  13.5  299.04  -6.18 -4.91 -18.66  27.44  18.2 -12.84 -11.07   \n",
       "2  20 -33.87  10.5  854.04  -9.32 -7.16 -18.66  25.44  11.9  -5.46 -11.01   \n",
       "3  20 -25.38  19.4  809.04 -12.69 -4.95 -23.66  25.54  19.6 -11.31  -7.53   \n",
       "4  20 -23.22  16.0  359.04  -7.70 -4.36  -8.66  26.64  25.8 -12.69 -10.20   \n",
       "\n",
       "   F12     F13   F14   F15  Class  \n",
       "0  365    0.47  3.40 -3.90  False  \n",
       "1  205 -129.53  7.12   NaN  False  \n",
       "2  330  -44.53  4.62 -3.84  False  \n",
       "3  215  -54.53  2.26   NaN  False  \n",
       "4   85 -134.53 -0.20 -7.76   True  "
      ]
     },
     "execution_count": 3,
     "metadata": {},
     "output_type": "execute_result"
    }
   ],
   "source": [
    "# view the first 5 rows of the data\n",
    "customer_df.head()"
   ]
  },
  {
   "cell_type": "code",
   "execution_count": 4,
   "metadata": {},
   "outputs": [
    {
     "data": {
      "text/plain": [
       "(1500, 16)"
      ]
     },
     "execution_count": 4,
     "metadata": {},
     "output_type": "execute_result"
    }
   ],
   "source": [
    "# check the shape of the data\n",
    "customer_df.shape"
   ]
  },
  {
   "cell_type": "code",
   "execution_count": 5,
   "metadata": {},
   "outputs": [
    {
     "data": {
      "text/html": [
       "<div>\n",
       "<style scoped>\n",
       "    .dataframe tbody tr th:only-of-type {\n",
       "        vertical-align: middle;\n",
       "    }\n",
       "\n",
       "    .dataframe tbody tr th {\n",
       "        vertical-align: top;\n",
       "    }\n",
       "\n",
       "    .dataframe thead th {\n",
       "        text-align: right;\n",
       "    }\n",
       "</style>\n",
       "<table border=\"1\" class=\"dataframe\">\n",
       "  <thead>\n",
       "    <tr style=\"text-align: right;\">\n",
       "      <th></th>\n",
       "      <th>F1</th>\n",
       "      <th>F2</th>\n",
       "      <th>F3</th>\n",
       "      <th>F4</th>\n",
       "      <th>F5</th>\n",
       "      <th>F6</th>\n",
       "      <th>F7</th>\n",
       "      <th>F8</th>\n",
       "      <th>F9</th>\n",
       "      <th>F10</th>\n",
       "      <th>F11</th>\n",
       "      <th>F12</th>\n",
       "      <th>F13</th>\n",
       "      <th>F14</th>\n",
       "      <th>F15</th>\n",
       "    </tr>\n",
       "  </thead>\n",
       "  <tbody>\n",
       "    <tr>\n",
       "      <th>count</th>\n",
       "      <td>1500.000000</td>\n",
       "      <td>1500.000000</td>\n",
       "      <td>1500.000000</td>\n",
       "      <td>1500.000000</td>\n",
       "      <td>1500.000000</td>\n",
       "      <td>1500.000000</td>\n",
       "      <td>1500.000000</td>\n",
       "      <td>1500.000000</td>\n",
       "      <td>1500.00000</td>\n",
       "      <td>1500.000000</td>\n",
       "      <td>1500.000000</td>\n",
       "      <td>1500.000000</td>\n",
       "      <td>1500.000000</td>\n",
       "      <td>1500.000000</td>\n",
       "      <td>750.000000</td>\n",
       "    </tr>\n",
       "    <tr>\n",
       "      <th>mean</th>\n",
       "      <td>10.806667</td>\n",
       "      <td>-31.029780</td>\n",
       "      <td>7.708560</td>\n",
       "      <td>387.376000</td>\n",
       "      <td>-9.067533</td>\n",
       "      <td>-7.674867</td>\n",
       "      <td>-11.298000</td>\n",
       "      <td>22.015627</td>\n",
       "      <td>9.93752</td>\n",
       "      <td>-4.958840</td>\n",
       "      <td>-12.037060</td>\n",
       "      <td>109.024667</td>\n",
       "      <td>-63.944000</td>\n",
       "      <td>4.917573</td>\n",
       "      <td>-5.843013</td>\n",
       "    </tr>\n",
       "    <tr>\n",
       "      <th>std</th>\n",
       "      <td>9.009814</td>\n",
       "      <td>7.662813</td>\n",
       "      <td>6.930553</td>\n",
       "      <td>214.250623</td>\n",
       "      <td>2.491236</td>\n",
       "      <td>2.545172</td>\n",
       "      <td>7.159315</td>\n",
       "      <td>6.333818</td>\n",
       "      <td>8.65042</td>\n",
       "      <td>7.541549</td>\n",
       "      <td>3.326893</td>\n",
       "      <td>117.334580</td>\n",
       "      <td>40.188448</td>\n",
       "      <td>5.081288</td>\n",
       "      <td>1.005117</td>\n",
       "    </tr>\n",
       "    <tr>\n",
       "      <th>min</th>\n",
       "      <td>0.000000</td>\n",
       "      <td>-56.220000</td>\n",
       "      <td>0.000000</td>\n",
       "      <td>149.040000</td>\n",
       "      <td>-16.800000</td>\n",
       "      <td>-16.040000</td>\n",
       "      <td>-28.660000</td>\n",
       "      <td>14.640000</td>\n",
       "      <td>0.00000</td>\n",
       "      <td>-18.390000</td>\n",
       "      <td>-24.750000</td>\n",
       "      <td>0.000000</td>\n",
       "      <td>-164.530000</td>\n",
       "      <td>-4.400000</td>\n",
       "      <td>-8.200000</td>\n",
       "    </tr>\n",
       "    <tr>\n",
       "      <th>25%</th>\n",
       "      <td>2.000000</td>\n",
       "      <td>-36.720000</td>\n",
       "      <td>1.200000</td>\n",
       "      <td>221.040000</td>\n",
       "      <td>-10.902500</td>\n",
       "      <td>-9.560000</td>\n",
       "      <td>-18.660000</td>\n",
       "      <td>16.080000</td>\n",
       "      <td>2.48000</td>\n",
       "      <td>-12.180000</td>\n",
       "      <td>-13.770000</td>\n",
       "      <td>15.000000</td>\n",
       "      <td>-79.530000</td>\n",
       "      <td>-0.040000</td>\n",
       "      <td>-6.590000</td>\n",
       "    </tr>\n",
       "    <tr>\n",
       "      <th>50%</th>\n",
       "      <td>2.000000</td>\n",
       "      <td>-34.020000</td>\n",
       "      <td>2.040000</td>\n",
       "      <td>281.040000</td>\n",
       "      <td>-10.020000</td>\n",
       "      <td>-8.665000</td>\n",
       "      <td>-7.660000</td>\n",
       "      <td>16.800000</td>\n",
       "      <td>4.14000</td>\n",
       "      <td>-2.010000</td>\n",
       "      <td>-11.580000</td>\n",
       "      <td>50.000000</td>\n",
       "      <td>-58.530000</td>\n",
       "      <td>6.880000</td>\n",
       "      <td>-5.850000</td>\n",
       "    </tr>\n",
       "    <tr>\n",
       "      <th>75%</th>\n",
       "      <td>20.000000</td>\n",
       "      <td>-23.542500</td>\n",
       "      <td>14.100000</td>\n",
       "      <td>569.040000</td>\n",
       "      <td>-6.690000</td>\n",
       "      <td>-5.220000</td>\n",
       "      <td>-5.660000</td>\n",
       "      <td>27.540000</td>\n",
       "      <td>16.40000</td>\n",
       "      <td>0.870000</td>\n",
       "      <td>-10.080000</td>\n",
       "      <td>195.000000</td>\n",
       "      <td>-45.530000</td>\n",
       "      <td>8.680000</td>\n",
       "      <td>-5.122500</td>\n",
       "    </tr>\n",
       "    <tr>\n",
       "      <th>max</th>\n",
       "      <td>20.000000</td>\n",
       "      <td>-17.610000</td>\n",
       "      <td>20.700000</td>\n",
       "      <td>884.040000</td>\n",
       "      <td>-4.560000</td>\n",
       "      <td>-3.110000</td>\n",
       "      <td>-2.660000</td>\n",
       "      <td>34.940000</td>\n",
       "      <td>31.40000</td>\n",
       "      <td>18.030000</td>\n",
       "      <td>-4.950000</td>\n",
       "      <td>390.000000</td>\n",
       "      <td>50.470000</td>\n",
       "      <td>22.980000</td>\n",
       "      <td>-3.120000</td>\n",
       "    </tr>\n",
       "  </tbody>\n",
       "</table>\n",
       "</div>"
      ],
      "text/plain": [
       "                F1           F2           F3           F4           F5  \\\n",
       "count  1500.000000  1500.000000  1500.000000  1500.000000  1500.000000   \n",
       "mean     10.806667   -31.029780     7.708560   387.376000    -9.067533   \n",
       "std       9.009814     7.662813     6.930553   214.250623     2.491236   \n",
       "min       0.000000   -56.220000     0.000000   149.040000   -16.800000   \n",
       "25%       2.000000   -36.720000     1.200000   221.040000   -10.902500   \n",
       "50%       2.000000   -34.020000     2.040000   281.040000   -10.020000   \n",
       "75%      20.000000   -23.542500    14.100000   569.040000    -6.690000   \n",
       "max      20.000000   -17.610000    20.700000   884.040000    -4.560000   \n",
       "\n",
       "                F6           F7           F8          F9          F10  \\\n",
       "count  1500.000000  1500.000000  1500.000000  1500.00000  1500.000000   \n",
       "mean     -7.674867   -11.298000    22.015627     9.93752    -4.958840   \n",
       "std       2.545172     7.159315     6.333818     8.65042     7.541549   \n",
       "min     -16.040000   -28.660000    14.640000     0.00000   -18.390000   \n",
       "25%      -9.560000   -18.660000    16.080000     2.48000   -12.180000   \n",
       "50%      -8.665000    -7.660000    16.800000     4.14000    -2.010000   \n",
       "75%      -5.220000    -5.660000    27.540000    16.40000     0.870000   \n",
       "max      -3.110000    -2.660000    34.940000    31.40000    18.030000   \n",
       "\n",
       "               F11          F12          F13          F14         F15  \n",
       "count  1500.000000  1500.000000  1500.000000  1500.000000  750.000000  \n",
       "mean    -12.037060   109.024667   -63.944000     4.917573   -5.843013  \n",
       "std       3.326893   117.334580    40.188448     5.081288    1.005117  \n",
       "min     -24.750000     0.000000  -164.530000    -4.400000   -8.200000  \n",
       "25%     -13.770000    15.000000   -79.530000    -0.040000   -6.590000  \n",
       "50%     -11.580000    50.000000   -58.530000     6.880000   -5.850000  \n",
       "75%     -10.080000   195.000000   -45.530000     8.680000   -5.122500  \n",
       "max      -4.950000   390.000000    50.470000    22.980000   -3.120000  "
      ]
     },
     "execution_count": 5,
     "metadata": {},
     "output_type": "execute_result"
    }
   ],
   "source": [
    "# check for more information \n",
    "customer_df.describe()"
   ]
  },
  {
   "cell_type": "code",
   "execution_count": 6,
   "metadata": {
    "scrolled": true
   },
   "outputs": [
    {
     "data": {
      "text/plain": [
       "F1         0\n",
       "F2         0\n",
       "F3         0\n",
       "F4         0\n",
       "F5         0\n",
       "F6         0\n",
       "F7         0\n",
       "F8         0\n",
       "F9         0\n",
       "F10        0\n",
       "F11        0\n",
       "F12        0\n",
       "F13        0\n",
       "F14        0\n",
       "F15      750\n",
       "Class      0\n",
       "dtype: int64"
      ]
     },
     "execution_count": 6,
     "metadata": {},
     "output_type": "execute_result"
    }
   ],
   "source": [
    "# check for missing values\n",
    "customer_df.isnull().sum()"
   ]
  },
  {
   "cell_type": "markdown",
   "metadata": {},
   "source": [
    "### Data Cleaning\n",
    "These is a missing value in feature F15, to handle this we implement a KNN imputer in predicting the missing data points."
   ]
  },
  {
   "cell_type": "code",
   "execution_count": 7,
   "metadata": {},
   "outputs": [],
   "source": [
    "# Predicting the missing value using KNN Algorithm\n",
    "from sklearn.impute import KNNImputer\n",
    "\n",
    "X = customer_df.copy()\n",
    "dataset_knn = KNNImputer(n_neighbors=2, weights=\"uniform\")\n",
    "data_knn = dataset_knn.fit_transform(X)\n",
    "data_knnimp = data_knn[:, 14]\n",
    "data_knnimp = pd.DataFrame(data_knnimp, columns=['F15_knn'])\n",
    "\n",
    "# create a dataframe based on the knn predicted values\n",
    "customer_df = pd.DataFrame(data_knn, columns=['F1', 'F2', 'F3', 'F4', 'F5', 'F6', 'F7', 'F8', 'F9',\n",
    "                                             'F10', 'F11', 'F12', 'F13', 'F14', 'F15', 'Class'])"
   ]
  },
  {
   "cell_type": "code",
   "execution_count": 8,
   "metadata": {},
   "outputs": [
    {
     "data": {
      "text/html": [
       "<div>\n",
       "<style scoped>\n",
       "    .dataframe tbody tr th:only-of-type {\n",
       "        vertical-align: middle;\n",
       "    }\n",
       "\n",
       "    .dataframe tbody tr th {\n",
       "        vertical-align: top;\n",
       "    }\n",
       "\n",
       "    .dataframe thead th {\n",
       "        text-align: right;\n",
       "    }\n",
       "</style>\n",
       "<table border=\"1\" class=\"dataframe\">\n",
       "  <thead>\n",
       "    <tr style=\"text-align: right;\">\n",
       "      <th></th>\n",
       "      <th>F1</th>\n",
       "      <th>F2</th>\n",
       "      <th>F3</th>\n",
       "      <th>F4</th>\n",
       "      <th>F5</th>\n",
       "      <th>F6</th>\n",
       "      <th>F7</th>\n",
       "      <th>F8</th>\n",
       "      <th>F9</th>\n",
       "      <th>F10</th>\n",
       "      <th>F11</th>\n",
       "      <th>F12</th>\n",
       "      <th>F13</th>\n",
       "      <th>F14</th>\n",
       "      <th>F15</th>\n",
       "      <th>Class</th>\n",
       "    </tr>\n",
       "  </thead>\n",
       "  <tbody>\n",
       "    <tr>\n",
       "      <th>0</th>\n",
       "      <td>20.0</td>\n",
       "      <td>-21.42</td>\n",
       "      <td>13.1</td>\n",
       "      <td>464.04</td>\n",
       "      <td>-6.10</td>\n",
       "      <td>-4.50</td>\n",
       "      <td>-18.66</td>\n",
       "      <td>27.54</td>\n",
       "      <td>20.1</td>\n",
       "      <td>-7.08</td>\n",
       "      <td>-16.32</td>\n",
       "      <td>365.0</td>\n",
       "      <td>0.47</td>\n",
       "      <td>3.40</td>\n",
       "      <td>-3.900</td>\n",
       "      <td>0.0</td>\n",
       "    </tr>\n",
       "    <tr>\n",
       "      <th>1</th>\n",
       "      <td>20.0</td>\n",
       "      <td>-27.12</td>\n",
       "      <td>13.5</td>\n",
       "      <td>299.04</td>\n",
       "      <td>-6.18</td>\n",
       "      <td>-4.91</td>\n",
       "      <td>-18.66</td>\n",
       "      <td>27.44</td>\n",
       "      <td>18.2</td>\n",
       "      <td>-12.84</td>\n",
       "      <td>-11.07</td>\n",
       "      <td>205.0</td>\n",
       "      <td>-129.53</td>\n",
       "      <td>7.12</td>\n",
       "      <td>-5.595</td>\n",
       "      <td>0.0</td>\n",
       "    </tr>\n",
       "    <tr>\n",
       "      <th>2</th>\n",
       "      <td>20.0</td>\n",
       "      <td>-33.87</td>\n",
       "      <td>10.5</td>\n",
       "      <td>854.04</td>\n",
       "      <td>-9.32</td>\n",
       "      <td>-7.16</td>\n",
       "      <td>-18.66</td>\n",
       "      <td>25.44</td>\n",
       "      <td>11.9</td>\n",
       "      <td>-5.46</td>\n",
       "      <td>-11.01</td>\n",
       "      <td>330.0</td>\n",
       "      <td>-44.53</td>\n",
       "      <td>4.62</td>\n",
       "      <td>-3.840</td>\n",
       "      <td>0.0</td>\n",
       "    </tr>\n",
       "    <tr>\n",
       "      <th>3</th>\n",
       "      <td>20.0</td>\n",
       "      <td>-25.38</td>\n",
       "      <td>19.4</td>\n",
       "      <td>809.04</td>\n",
       "      <td>-12.69</td>\n",
       "      <td>-4.95</td>\n",
       "      <td>-23.66</td>\n",
       "      <td>25.54</td>\n",
       "      <td>19.6</td>\n",
       "      <td>-11.31</td>\n",
       "      <td>-7.53</td>\n",
       "      <td>215.0</td>\n",
       "      <td>-54.53</td>\n",
       "      <td>2.26</td>\n",
       "      <td>-5.675</td>\n",
       "      <td>0.0</td>\n",
       "    </tr>\n",
       "    <tr>\n",
       "      <th>4</th>\n",
       "      <td>20.0</td>\n",
       "      <td>-23.22</td>\n",
       "      <td>16.0</td>\n",
       "      <td>359.04</td>\n",
       "      <td>-7.70</td>\n",
       "      <td>-4.36</td>\n",
       "      <td>-8.66</td>\n",
       "      <td>26.64</td>\n",
       "      <td>25.8</td>\n",
       "      <td>-12.69</td>\n",
       "      <td>-10.20</td>\n",
       "      <td>85.0</td>\n",
       "      <td>-134.53</td>\n",
       "      <td>-0.20</td>\n",
       "      <td>-7.760</td>\n",
       "      <td>1.0</td>\n",
       "    </tr>\n",
       "  </tbody>\n",
       "</table>\n",
       "</div>"
      ],
      "text/plain": [
       "     F1     F2    F3      F4     F5    F6     F7     F8    F9    F10    F11  \\\n",
       "0  20.0 -21.42  13.1  464.04  -6.10 -4.50 -18.66  27.54  20.1  -7.08 -16.32   \n",
       "1  20.0 -27.12  13.5  299.04  -6.18 -4.91 -18.66  27.44  18.2 -12.84 -11.07   \n",
       "2  20.0 -33.87  10.5  854.04  -9.32 -7.16 -18.66  25.44  11.9  -5.46 -11.01   \n",
       "3  20.0 -25.38  19.4  809.04 -12.69 -4.95 -23.66  25.54  19.6 -11.31  -7.53   \n",
       "4  20.0 -23.22  16.0  359.04  -7.70 -4.36  -8.66  26.64  25.8 -12.69 -10.20   \n",
       "\n",
       "     F12     F13   F14    F15  Class  \n",
       "0  365.0    0.47  3.40 -3.900    0.0  \n",
       "1  205.0 -129.53  7.12 -5.595    0.0  \n",
       "2  330.0  -44.53  4.62 -3.840    0.0  \n",
       "3  215.0  -54.53  2.26 -5.675    0.0  \n",
       "4   85.0 -134.53 -0.20 -7.760    1.0  "
      ]
     },
     "execution_count": 8,
     "metadata": {},
     "output_type": "execute_result"
    }
   ],
   "source": [
    "customer_df.head()"
   ]
  },
  {
   "cell_type": "markdown",
   "metadata": {},
   "source": [
    "### Feature Scaling\n",
    "As observed above, there is a varing range of data across all features. This may create biase. To handle this, we implement a min-max normalizer."
   ]
  },
  {
   "cell_type": "code",
   "execution_count": 9,
   "metadata": {},
   "outputs": [],
   "source": [
    "# The data is being swamped with data with large absolute values. Hence, the need to scale. \n",
    "\n",
    "from sklearn.preprocessing import MinMaxScaler\n",
    "\n",
    "scaler = MinMaxScaler(feature_range=(0, 1))\n",
    "\n",
    "# Scale only the input data\n",
    "input_data = customer_df[['F1', 'F2', 'F3', 'F4', 'F5', 'F6', 'F7', 'F8', 'F9','F10', 'F11', 'F12', 'F13', 'F14', 'F15']].to_numpy()\n",
    "data_scaled = scaler.fit_transform(input_data)\n",
    "data_scaled_df = pd.DataFrame (data_scaled, columns = ['F1', 'F2', 'F3', 'F4', 'F5', 'F6', 'F7', 'F8', 'F9',\n",
    "                                             'F10', 'F11', 'F12', 'F13', 'F14', 'F15'])"
   ]
  },
  {
   "cell_type": "code",
   "execution_count": 10,
   "metadata": {},
   "outputs": [
    {
     "data": {
      "text/html": [
       "<div>\n",
       "<style scoped>\n",
       "    .dataframe tbody tr th:only-of-type {\n",
       "        vertical-align: middle;\n",
       "    }\n",
       "\n",
       "    .dataframe tbody tr th {\n",
       "        vertical-align: top;\n",
       "    }\n",
       "\n",
       "    .dataframe thead th {\n",
       "        text-align: right;\n",
       "    }\n",
       "</style>\n",
       "<table border=\"1\" class=\"dataframe\">\n",
       "  <thead>\n",
       "    <tr style=\"text-align: right;\">\n",
       "      <th></th>\n",
       "      <th>F1</th>\n",
       "      <th>F2</th>\n",
       "      <th>F3</th>\n",
       "      <th>F4</th>\n",
       "      <th>F5</th>\n",
       "      <th>F6</th>\n",
       "      <th>F7</th>\n",
       "      <th>F8</th>\n",
       "      <th>F9</th>\n",
       "      <th>F10</th>\n",
       "      <th>F11</th>\n",
       "      <th>F12</th>\n",
       "      <th>F13</th>\n",
       "      <th>F14</th>\n",
       "      <th>F15</th>\n",
       "    </tr>\n",
       "  </thead>\n",
       "  <tbody>\n",
       "    <tr>\n",
       "      <th>0</th>\n",
       "      <td>1.0</td>\n",
       "      <td>0.901321</td>\n",
       "      <td>0.632850</td>\n",
       "      <td>0.428571</td>\n",
       "      <td>0.874183</td>\n",
       "      <td>0.892498</td>\n",
       "      <td>0.384615</td>\n",
       "      <td>0.635468</td>\n",
       "      <td>0.640127</td>\n",
       "      <td>0.310544</td>\n",
       "      <td>0.425758</td>\n",
       "      <td>0.935897</td>\n",
       "      <td>0.767442</td>\n",
       "      <td>0.284879</td>\n",
       "      <td>0.846457</td>\n",
       "    </tr>\n",
       "    <tr>\n",
       "      <th>1</th>\n",
       "      <td>1.0</td>\n",
       "      <td>0.753691</td>\n",
       "      <td>0.652174</td>\n",
       "      <td>0.204082</td>\n",
       "      <td>0.867647</td>\n",
       "      <td>0.860789</td>\n",
       "      <td>0.384615</td>\n",
       "      <td>0.630542</td>\n",
       "      <td>0.579618</td>\n",
       "      <td>0.152389</td>\n",
       "      <td>0.690909</td>\n",
       "      <td>0.525641</td>\n",
       "      <td>0.162791</td>\n",
       "      <td>0.420745</td>\n",
       "      <td>0.512795</td>\n",
       "    </tr>\n",
       "    <tr>\n",
       "      <th>2</th>\n",
       "      <td>1.0</td>\n",
       "      <td>0.578866</td>\n",
       "      <td>0.507246</td>\n",
       "      <td>0.959184</td>\n",
       "      <td>0.611111</td>\n",
       "      <td>0.686775</td>\n",
       "      <td>0.384615</td>\n",
       "      <td>0.532020</td>\n",
       "      <td>0.378981</td>\n",
       "      <td>0.355025</td>\n",
       "      <td>0.693939</td>\n",
       "      <td>0.846154</td>\n",
       "      <td>0.558140</td>\n",
       "      <td>0.329438</td>\n",
       "      <td>0.858268</td>\n",
       "    </tr>\n",
       "    <tr>\n",
       "      <th>3</th>\n",
       "      <td>1.0</td>\n",
       "      <td>0.798757</td>\n",
       "      <td>0.937198</td>\n",
       "      <td>0.897959</td>\n",
       "      <td>0.335784</td>\n",
       "      <td>0.857695</td>\n",
       "      <td>0.192308</td>\n",
       "      <td>0.536946</td>\n",
       "      <td>0.624204</td>\n",
       "      <td>0.194399</td>\n",
       "      <td>0.869697</td>\n",
       "      <td>0.551282</td>\n",
       "      <td>0.511628</td>\n",
       "      <td>0.243243</td>\n",
       "      <td>0.497047</td>\n",
       "    </tr>\n",
       "    <tr>\n",
       "      <th>4</th>\n",
       "      <td>1.0</td>\n",
       "      <td>0.854701</td>\n",
       "      <td>0.772947</td>\n",
       "      <td>0.285714</td>\n",
       "      <td>0.743464</td>\n",
       "      <td>0.903326</td>\n",
       "      <td>0.769231</td>\n",
       "      <td>0.591133</td>\n",
       "      <td>0.821656</td>\n",
       "      <td>0.156507</td>\n",
       "      <td>0.734848</td>\n",
       "      <td>0.217949</td>\n",
       "      <td>0.139535</td>\n",
       "      <td>0.153397</td>\n",
       "      <td>0.086614</td>\n",
       "    </tr>\n",
       "  </tbody>\n",
       "</table>\n",
       "</div>"
      ],
      "text/plain": [
       "    F1        F2        F3        F4        F5        F6        F7        F8  \\\n",
       "0  1.0  0.901321  0.632850  0.428571  0.874183  0.892498  0.384615  0.635468   \n",
       "1  1.0  0.753691  0.652174  0.204082  0.867647  0.860789  0.384615  0.630542   \n",
       "2  1.0  0.578866  0.507246  0.959184  0.611111  0.686775  0.384615  0.532020   \n",
       "3  1.0  0.798757  0.937198  0.897959  0.335784  0.857695  0.192308  0.536946   \n",
       "4  1.0  0.854701  0.772947  0.285714  0.743464  0.903326  0.769231  0.591133   \n",
       "\n",
       "         F9       F10       F11       F12       F13       F14       F15  \n",
       "0  0.640127  0.310544  0.425758  0.935897  0.767442  0.284879  0.846457  \n",
       "1  0.579618  0.152389  0.690909  0.525641  0.162791  0.420745  0.512795  \n",
       "2  0.378981  0.355025  0.693939  0.846154  0.558140  0.329438  0.858268  \n",
       "3  0.624204  0.194399  0.869697  0.551282  0.511628  0.243243  0.497047  \n",
       "4  0.821656  0.156507  0.734848  0.217949  0.139535  0.153397  0.086614  "
      ]
     },
     "execution_count": 10,
     "metadata": {},
     "output_type": "execute_result"
    }
   ],
   "source": [
    "data_scaled_df.head()"
   ]
  },
  {
   "cell_type": "markdown",
   "metadata": {},
   "source": [
    "### Dimensionality Reduction\n",
    "To handle poor performance of model as a result of higher number of features, we reduce using the Principal Component Analysis (PCA) into 5 principal features."
   ]
  },
  {
   "cell_type": "code",
   "execution_count": 11,
   "metadata": {
    "scrolled": true
   },
   "outputs": [
    {
     "data": {
      "text/plain": [
       "Text(0.5, 1.0, \"Variance Explained by PCA's\")"
      ]
     },
     "execution_count": 11,
     "metadata": {},
     "output_type": "execute_result"
    },
    {
     "data": {
      "image/png": "[encoded data removed]",
      "text/plain": [
       "<Figure size 432x288 with 1 Axes>"
      ]
     },
     "metadata": {
      "needs_background": "light"
     },
     "output_type": "display_data"
    }
   ],
   "source": [
    "# Find the optimal number of PCA \n",
    "reduced_df = data_scaled_df # Define the required data for this analysis\n",
    "from sklearn.decomposition import PCA\n",
    "pca = PCA(n_components=reduced_df.shape[1])\n",
    "pca.fit(reduced_df)\n",
    "ratios = pca.explained_variance_ratio_\n",
    "\n",
    "# Plot the explained variance ratios\n",
    "x = np.arange(reduced_df.shape[1])\n",
    "plt.plot(x, np.cumsum(ratios), '-o')\n",
    "plt.xlabel(\"Number of PCA's\")\n",
    "plt.ylabel(\"Cumulated Sum of Explained Variance\")\n",
    "plt.title(\"Variance Explained by PCA's\")"
   ]
  },
  {
   "cell_type": "code",
   "execution_count": 12,
   "metadata": {},
   "outputs": [],
   "source": [
    "# Creating PCA object\n",
    "pca1 = PCA(n_components=5)               \n",
    "principalComponents = pca1.fit_transform(reduced_df)\n",
    "\n",
    "#Creating the dataframe\n",
    "PCA_data = pd.DataFrame(data = principalComponents, columns = ['PC1', 'PC2', 'PC3', 'PC4', 'PC5'])"
   ]
  },
  {
   "cell_type": "code",
   "execution_count": 13,
   "metadata": {},
   "outputs": [
    {
     "data": {
      "text/html": [
       "<div>\n",
       "<style scoped>\n",
       "    .dataframe tbody tr th:only-of-type {\n",
       "        vertical-align: middle;\n",
       "    }\n",
       "\n",
       "    .dataframe tbody tr th {\n",
       "        vertical-align: top;\n",
       "    }\n",
       "\n",
       "    .dataframe thead th {\n",
       "        text-align: right;\n",
       "    }\n",
       "</style>\n",
       "<table border=\"1\" class=\"dataframe\">\n",
       "  <thead>\n",
       "    <tr style=\"text-align: right;\">\n",
       "      <th></th>\n",
       "      <th>PC1</th>\n",
       "      <th>PC2</th>\n",
       "      <th>PC3</th>\n",
       "      <th>PC4</th>\n",
       "      <th>PC5</th>\n",
       "    </tr>\n",
       "  </thead>\n",
       "  <tbody>\n",
       "    <tr>\n",
       "      <th>0</th>\n",
       "      <td>0.965187</td>\n",
       "      <td>0.148830</td>\n",
       "      <td>0.311376</td>\n",
       "      <td>0.477471</td>\n",
       "      <td>0.174091</td>\n",
       "    </tr>\n",
       "    <tr>\n",
       "      <th>1</th>\n",
       "      <td>0.766148</td>\n",
       "      <td>-0.176972</td>\n",
       "      <td>0.166540</td>\n",
       "      <td>-0.116315</td>\n",
       "      <td>0.195013</td>\n",
       "    </tr>\n",
       "    <tr>\n",
       "      <th>2</th>\n",
       "      <td>0.764531</td>\n",
       "      <td>0.340592</td>\n",
       "      <td>-0.229592</td>\n",
       "      <td>0.631896</td>\n",
       "      <td>0.055527</td>\n",
       "    </tr>\n",
       "    <tr>\n",
       "      <th>3</th>\n",
       "      <td>1.000639</td>\n",
       "      <td>0.393329</td>\n",
       "      <td>-0.221721</td>\n",
       "      <td>0.096840</td>\n",
       "      <td>-0.020286</td>\n",
       "    </tr>\n",
       "    <tr>\n",
       "      <th>4</th>\n",
       "      <td>0.736967</td>\n",
       "      <td>-0.437358</td>\n",
       "      <td>0.018852</td>\n",
       "      <td>-0.497090</td>\n",
       "      <td>0.075759</td>\n",
       "    </tr>\n",
       "  </tbody>\n",
       "</table>\n",
       "</div>"
      ],
      "text/plain": [
       "        PC1       PC2       PC3       PC4       PC5\n",
       "0  0.965187  0.148830  0.311376  0.477471  0.174091\n",
       "1  0.766148 -0.176972  0.166540 -0.116315  0.195013\n",
       "2  0.764531  0.340592 -0.229592  0.631896  0.055527\n",
       "3  1.000639  0.393329 -0.221721  0.096840 -0.020286\n",
       "4  0.736967 -0.437358  0.018852 -0.497090  0.075759"
      ]
     },
     "execution_count": 13,
     "metadata": {},
     "output_type": "execute_result"
    }
   ],
   "source": [
    "PCA_data.head()"
   ]
  },
  {
   "cell_type": "code",
   "execution_count": 14,
   "metadata": {
    "scrolled": true
   },
   "outputs": [
    {
     "data": {
      "text/plain": [
       "0    0\n",
       "1    0\n",
       "2    0\n",
       "3    0\n",
       "4    1\n",
       "Name: Class, dtype: int64"
      ]
     },
     "execution_count": 14,
     "metadata": {},
     "output_type": "execute_result"
    }
   ],
   "source": [
    "target_label = customer_df['Class'].astype('int64')\n",
    "target_label.head()"
   ]
  },
  {
   "cell_type": "markdown",
   "metadata": {},
   "source": [
    "## Model  Development\n",
    "The following algorithms will be used for the experimentation. They are:\n",
    "* Decision Tree Classifier\n",
    "* KNN Classifier\n",
    "* SVM Classifier\n",
    "* Random Forest Classifier"
   ]
  },
  {
   "cell_type": "markdown",
   "metadata": {},
   "source": [
    "## Performance Matrics\n",
    "To evaluate the performance of our developed models, we will be using the following:\n",
    "* Confusion matrix\n",
    "* Classification Accuracy \n",
    "* F1 Score (precision & recall) \n",
    "* AUC curve"
   ]
  },
  {
   "cell_type": "code",
   "execution_count": 15,
   "metadata": {},
   "outputs": [],
   "source": [
    "# Create the predicting and target features\n",
    "X = PCA_data\n",
    "y = target_label"
   ]
  },
  {
   "cell_type": "code",
   "execution_count": 16,
   "metadata": {},
   "outputs": [],
   "source": [
    "# split data into train and validation data\n",
    "from sklearn.model_selection import train_test_split\n",
    "\n",
    "X_train, X_valid, y_train, y_valid = train_test_split(X, y, test_size=0.3, random_state=42)"
   ]
  },
  {
   "cell_type": "markdown",
   "metadata": {},
   "source": [
    "###  1. Decision Tree Classifier"
   ]
  },
  {
   "cell_type": "code",
   "execution_count": 17,
   "metadata": {},
   "outputs": [],
   "source": [
    "# import the tree class\n",
    "from sklearn import tree\n",
    "\n",
    "# calling and fitting data into the Decision Tree Classifier object\n",
    "clf = tree.DecisionTreeClassifier()\n",
    "clf = clf.fit(X_train, y_train)"
   ]
  },
  {
   "cell_type": "code",
   "execution_count": 18,
   "metadata": {},
   "outputs": [],
   "source": [
    "# predict the new data\n",
    "y_predDT = clf.predict(X_valid)"
   ]
  },
  {
   "cell_type": "code",
   "execution_count": 19,
   "metadata": {},
   "outputs": [
    {
     "name": "stdout",
     "output_type": "stream",
     "text": [
      "The classification accuracy score is: 1.0\n"
     ]
    }
   ],
   "source": [
    "# check the accuracy score\n",
    "from sklearn.metrics import accuracy_score\n",
    "\n",
    "print(f'The classification accuracy score is: {accuracy_score(y_valid, y_predDT)}')"
   ]
  },
  {
   "cell_type": "code",
   "execution_count": 20,
   "metadata": {
    "scrolled": false
   },
   "outputs": [
    {
     "name": "stdout",
     "output_type": "stream",
     "text": [
      "Decision Tree Confusion matrix = [[248   0]\n",
      " [  0 202]] \n",
      "Confusion matrix accuracy = 100.0%\n"
     ]
    }
   ],
   "source": [
    "# import the confusion matrix and accuracy\n",
    "from sklearn.metrics import confusion_matrix\n",
    "\n",
    "conf_matrix = confusion_matrix(y_valid, y_predDT)\n",
    "conf_accuracy = ((conf_matrix.diagonal()).sum() / conf_matrix.sum()) * 100\n",
    "\n",
    "print(f'Decision Tree Confusion matrix = {conf_matrix} \\nConfusion matrix accuracy = {round(conf_accuracy, 2)}%')"
   ]
  },
  {
   "cell_type": "code",
   "execution_count": 21,
   "metadata": {
    "scrolled": true
   },
   "outputs": [
    {
     "name": "stdout",
     "output_type": "stream",
     "text": [
      "              precision    recall  f1-score   support\n",
      "\n",
      "           0       1.00      1.00      1.00       248\n",
      "           1       1.00      1.00      1.00       202\n",
      "\n",
      "    accuracy                           1.00       450\n",
      "   macro avg       1.00      1.00      1.00       450\n",
      "weighted avg       1.00      1.00      1.00       450\n",
      "\n"
     ]
    }
   ],
   "source": [
    "# output the classification report\n",
    "from sklearn.metrics import classification_report\n",
    "\n",
    "print(classification_report(y_valid, y_predDT))"
   ]
  },
  {
   "cell_type": "markdown",
   "metadata": {},
   "source": [
    "## 2. KNN Classifier"
   ]
  },
  {
   "cell_type": "code",
   "execution_count": 22,
   "metadata": {},
   "outputs": [],
   "source": [
    "# import the neighbors class\n",
    "from sklearn.neighbors import KNeighborsClassifier\n",
    "\n",
    "# calling and fitting data into the KNN Classifier object\n",
    "neigh = KNeighborsClassifier(n_neighbors=3)\n",
    "neigh = neigh.fit(X_train, y_train)"
   ]
  },
  {
   "cell_type": "code",
   "execution_count": 23,
   "metadata": {},
   "outputs": [],
   "source": [
    "# predict the new data\n",
    "y_predKnn = neigh.predict(X_valid)"
   ]
  },
  {
   "cell_type": "code",
   "execution_count": 24,
   "metadata": {},
   "outputs": [
    {
     "name": "stdout",
     "output_type": "stream",
     "text": [
      "Decision Tree Confusion matrix = [[216  32]\n",
      " [ 30 172]] \n",
      "Confusion matrix accuracy = 86.22%\n"
     ]
    }
   ],
   "source": [
    "# import the confusion matrix and accuracy\n",
    "conf_matrix = confusion_matrix(y_valid, y_predKnn)\n",
    "conf_accuracy = ((conf_matrix.diagonal()).sum() / conf_matrix.sum()) * 100\n",
    "\n",
    "print(f'Decision Tree Confusion matrix = {conf_matrix} \\nConfusion matrix accuracy = {round(conf_accuracy, 2)}%')"
   ]
  },
  {
   "cell_type": "code",
   "execution_count": 25,
   "metadata": {},
   "outputs": [
    {
     "name": "stdout",
     "output_type": "stream",
     "text": [
      "              precision    recall  f1-score   support\n",
      "\n",
      "           0       0.74      0.76      0.75       248\n",
      "           1       0.69      0.67      0.68       202\n",
      "\n",
      "    accuracy                           0.72       450\n",
      "   macro avg       0.72      0.72      0.72       450\n",
      "weighted avg       0.72      0.72      0.72       450\n",
      "\n"
     ]
    }
   ],
   "source": [
    "# output the classification report\n",
    "from sklearn.metrics import classification_report\n",
    "\n",
    "print(classification_report(y_valid, y_predKnn))"
   ]
  },
  {
   "cell_type": "markdown",
   "metadata": {},
   "source": [
    "## 3. SVM Classifier"
   ]
  },
  {
   "cell_type": "code",
   "execution_count": 26,
   "metadata": {},
   "outputs": [],
   "source": [
    "# import the SVM class \n",
    "from sklearn import svm\n",
    "\n",
    "# calling and fitting data into SVM Classifier object\n",
    "svec = svm.SVC()\n",
    "svec = svec.fit(X_train, y_train)"
   ]
  },
  {
   "cell_type": "code",
   "execution_count": 28,
   "metadata": {},
   "outputs": [],
   "source": [
    "# predict the new data\n",
    "y_predsvm = svec.predict(X_valid)"
   ]
  },
  {
   "cell_type": "code",
   "execution_count": 29,
   "metadata": {
    "scrolled": true
   },
   "outputs": [
    {
     "name": "stdout",
     "output_type": "stream",
     "text": [
      "Decision Tree Confusion matrix = [[200  48]\n",
      " [ 54 148]] \n",
      "Confusion matrix accuracy = 77.33%\n"
     ]
    }
   ],
   "source": [
    "# import the confusion matrix and accuracy\n",
    "conf_matrix = confusion_matrix(y_valid, y_predsvm)\n",
    "conf_accuracy = ((conf_matrix.diagonal()).sum() / conf_matrix.sum()) * 100\n",
    "\n",
    "print(f'Decision Tree Confusion matrix = {conf_matrix} \\nConfusion matrix accuracy = {round(conf_accuracy, 2)}%')"
   ]
  },
  {
   "cell_type": "code",
   "execution_count": 30,
   "metadata": {},
   "outputs": [
    {
     "name": "stdout",
     "output_type": "stream",
     "text": [
      "              precision    recall  f1-score   support\n",
      "\n",
      "           0       0.79      0.81      0.80       248\n",
      "           1       0.76      0.73      0.74       202\n",
      "\n",
      "    accuracy                           0.77       450\n",
      "   macro avg       0.77      0.77      0.77       450\n",
      "weighted avg       0.77      0.77      0.77       450\n",
      "\n"
     ]
    }
   ],
   "source": [
    "# output the classification report\n",
    "from sklearn.metrics import classification_report\n",
    "\n",
    "print(classification_report(y_valid, y_predsvm))"
   ]
  },
  {
   "cell_type": "markdown",
   "metadata": {},
   "source": [
    "## 4. Random Forest Classifier"
   ]
  },
  {
   "cell_type": "code",
   "execution_count": 31,
   "metadata": {},
   "outputs": [],
   "source": [
    "# import the ensemble class \n",
    "from sklearn.ensemble import RandomForestClassifier\n",
    "from sklearn.datasets import make_classification\n",
    "\n",
    "# calling and fitting data into the KNN Classifier object\n",
    "rf = RandomForestClassifier(max_depth=2, random_state=0)\n",
    "rf = rf.fit(X_train, y_train)"
   ]
  },
  {
   "cell_type": "code",
   "execution_count": 32,
   "metadata": {},
   "outputs": [],
   "source": [
    "# predict the new data\n",
    "y_predrf = rf.predict(X_valid)"
   ]
  },
  {
   "cell_type": "code",
   "execution_count": 33,
   "metadata": {},
   "outputs": [
    {
     "name": "stdout",
     "output_type": "stream",
     "text": [
      "Decision Tree Confusion matrix = [[200  48]\n",
      " [ 91 111]], \n",
      "Confusion matrix accuracy = 69.11%\n"
     ]
    }
   ],
   "source": [
    "# import the confusion matrix and accuracy\n",
    "conf_matrix = confusion_matrix(y_valid, y_predrf)\n",
    "conf_accuracy = ((conf_matrix.diagonal()).sum() / conf_matrix.sum()) * 100\n",
    "\n",
    "print(f'Decision Tree Confusion matrix = {conf_matrix}, \\nConfusion matrix accuracy = {round(conf_accuracy, 2)}%')"
   ]
  },
  {
   "cell_type": "code",
   "execution_count": 34,
   "metadata": {},
   "outputs": [
    {
     "name": "stdout",
     "output_type": "stream",
     "text": [
      "              precision    recall  f1-score   support\n",
      "\n",
      "           0       0.69      0.81      0.74       248\n",
      "           1       0.70      0.55      0.61       202\n",
      "\n",
      "    accuracy                           0.69       450\n",
      "   macro avg       0.69      0.68      0.68       450\n",
      "weighted avg       0.69      0.69      0.69       450\n",
      "\n"
     ]
    }
   ],
   "source": [
    "# output the classification report\n",
    "from sklearn.metrics import classification_report\n",
    "\n",
    "print(classification_report(y_valid, y_predrf))"
   ]
  },
  {
   "cell_type": "markdown",
   "metadata": {},
   "source": [
    "# Comparative Study"
   ]
  },
  {
   "cell_type": "markdown",
   "metadata": {},
   "source": [
    "### Confusion Matrix"
   ]
  },
  {
   "cell_type": "code",
   "execution_count": 35,
   "metadata": {},
   "outputs": [
    {
     "data": {
      "text/plain": [
       "Text(0.5, 0, 'Score')"
      ]
     },
     "execution_count": 35,
     "metadata": {},
     "output_type": "execute_result"
    },
    {
     "data": {
      "image/png": "[encoded data removed]",
      "text/plain": [
       "<Figure size 720x432 with 1 Axes>"
      ]
     },
     "metadata": {},
     "output_type": "display_data"
    }
   ],
   "source": [
    "# Creating table for the Confusion matrix\n",
    "index = ['Decision Tree', 'KNN', 'SVM', 'Random Forest']\n",
    "TN = [248, 216, 200, 200]\n",
    "FP = [0, 32, 48, 48]\n",
    "FN = [0, 30, 54, 91]\n",
    "TP = [202, 172, 148, 111]\n",
    "\n",
    "conf_table = pd.DataFrame({'TN': TN, 'FP': FP,\n",
    "                        'FN': FN, 'TP': TP}, index=index)\n",
    "plt.style.use('ggplot')\n",
    "ax = conf_table.plot.barh(rot=0, color= ['#1F3F49', '#6AB187', '#4CB5F5', '#808080'], figsize=(10, 6))\n",
    "plt.title('Confusion Matrix Result Comparison')\n",
    "plt.xlabel('Score')"
   ]
  },
  {
   "cell_type": "markdown",
   "metadata": {},
   "source": [
    "### Accuracy Score"
   ]
  },
  {
   "cell_type": "code",
   "execution_count": 36,
   "metadata": {},
   "outputs": [],
   "source": [
    "# Creating accuracy table\n",
    "acc_table = pd.DataFrame()\n",
    "acc_table['Algorithm'] = ['Decision Tree', 'KNN', 'SVM', 'Random Forest']\n",
    "acc_table['Accuracy (%)'] = [100, 86.22, 77.33, 69.11]"
   ]
  },
  {
   "cell_type": "code",
   "execution_count": 37,
   "metadata": {},
   "outputs": [
    {
     "data": {
      "image/png": "[encoded data removed]",
      "text/plain": [
       "<Figure size 720x504 with 1 Axes>"
      ]
     },
     "metadata": {},
     "output_type": "display_data"
    }
   ],
   "source": [
    "# create the percentage accuracy plot\n",
    "plt.style.use('ggplot')\n",
    "plt.figure(figsize=(10, 7))\n",
    "plt.bar(acc_table['Algorithm'], acc_table['Accuracy (%)'], color= ['#1F3F49', '#6AB187', '#4CB5F5', '#808080'])\n",
    "plt.title('Comparison of Percentage Accuracy')\n",
    "plt.ylabel('Accuracy Score (%)')\n",
    "plt.grid(True)\n",
    "ax = plt.gca()\n",
    "ax.tick_params(axis='x', labelrotation=45)"
   ]
  },
  {
   "cell_type": "code",
   "execution_count": 38,
   "metadata": {},
   "outputs": [
    {
     "data": {
      "text/html": [
       "<div>\n",
       "<style scoped>\n",
       "    .dataframe tbody tr th:only-of-type {\n",
       "        vertical-align: middle;\n",
       "    }\n",
       "\n",
       "    .dataframe tbody tr th {\n",
       "        vertical-align: top;\n",
       "    }\n",
       "\n",
       "    .dataframe thead th {\n",
       "        text-align: right;\n",
       "    }\n",
       "</style>\n",
       "<table border=\"1\" class=\"dataframe\">\n",
       "  <thead>\n",
       "    <tr style=\"text-align: right;\">\n",
       "      <th></th>\n",
       "      <th>Algorithm</th>\n",
       "      <th>Accuracy (%)</th>\n",
       "    </tr>\n",
       "  </thead>\n",
       "  <tbody>\n",
       "    <tr>\n",
       "      <th>0</th>\n",
       "      <td>Decision Tree</td>\n",
       "      <td>100.00</td>\n",
       "    </tr>\n",
       "    <tr>\n",
       "      <th>1</th>\n",
       "      <td>KNN</td>\n",
       "      <td>86.22</td>\n",
       "    </tr>\n",
       "    <tr>\n",
       "      <th>2</th>\n",
       "      <td>SVM</td>\n",
       "      <td>77.33</td>\n",
       "    </tr>\n",
       "    <tr>\n",
       "      <th>3</th>\n",
       "      <td>Random Forest</td>\n",
       "      <td>69.11</td>\n",
       "    </tr>\n",
       "  </tbody>\n",
       "</table>\n",
       "</div>"
      ],
      "text/plain": [
       "       Algorithm  Accuracy (%)\n",
       "0  Decision Tree        100.00\n",
       "1            KNN         86.22\n",
       "2            SVM         77.33\n",
       "3  Random Forest         69.11"
      ]
     },
     "execution_count": 38,
     "metadata": {},
     "output_type": "execute_result"
    }
   ],
   "source": [
    "acc_table.head()"
   ]
  },
  {
   "cell_type": "code",
   "execution_count": 39,
   "metadata": {
    "scrolled": true
   },
   "outputs": [
    {
     "data": {
      "text/plain": [
       "Text(0, 0.5, 'Accuracy Score')"
      ]
     },
     "execution_count": 39,
     "metadata": {},
     "output_type": "execute_result"
    },
    {
     "data": {
      "image/png": "[encoded data removed]",
      "text/plain": [
       "<Figure size 720x288 with 1 Axes>"
      ]
     },
     "metadata": {},
     "output_type": "display_data"
    }
   ],
   "source": [
    "# create the F1, Recall and Precision table\n",
    "index = ['Decision Tree', 'KNN', 'SVM', 'Random Forest']\n",
    "F1_Score = [1,  0.86, 0.77, 0.69]\n",
    "Precision = [1, 0.86, 0.77, 0.69]\n",
    "Recall = [1, 0.86, 0.77, 0.69]\n",
    "\n",
    "score_df = pd.DataFrame({'F1_Score': F1_Score, 'Precision': Precision,\n",
    "                       'Recall': Recall}, index=index)\n",
    "\n",
    "# create the F1, Recall and Precision plot\n",
    "plt.style.use('ggplot')\n",
    "ax = score_df.plot.bar(rot=0, color= ['#1F3F49', '#6AB187', '#4CB5F5'], figsize=(10, 4))\n",
    "plt.title('Weighted Average Resullt Comparison')\n",
    "plt.ylabel('Accuracy Score')"
   ]
  },
  {
   "cell_type": "markdown",
   "metadata": {},
   "source": [
    "### AUC curve"
   ]
  },
  {
   "cell_type": "code",
   "execution_count": 40,
   "metadata": {},
   "outputs": [
    {
     "data": {
      "text/plain": [
       "Text(0.5, 0.98, 'ROC curve comparison')"
      ]
     },
     "execution_count": 40,
     "metadata": {},
     "output_type": "execute_result"
    },
    {
     "data": {
      "image/png": "[encoded data removed]",
      "text/plain": [
       "<Figure size 432x288 with 1 Axes>"
      ]
     },
     "metadata": {},
     "output_type": "display_data"
    }
   ],
   "source": [
    "# ploting the AUC plot\n",
    "from sklearn.metrics import plot_roc_curve\n",
    "\n",
    "plt.style.use('ggplot')\n",
    "svc_disp = plot_roc_curve(svec, X_valid, y_valid, color= '#1F3F49')\n",
    "clf_disp = plot_roc_curve(clf, X_valid, y_valid, ax=svc_disp.ax_, color='#6AB187')\n",
    "neigh_disp = plot_roc_curve(neigh, X_valid, y_valid, ax=clf_disp.ax_, color='#4CB5F5')\n",
    "rf_disp = plot_roc_curve(rf, X_valid, y_valid, ax=neigh_disp.ax_)\n",
    "rf_disp.figure_.suptitle(\"ROC curve comparison\")"
   ]
  },
  {
   "cell_type": "markdown",
   "metadata": {},
   "source": [
    "## Making Predictions for on the Test Dataset"
   ]
  },
  {
   "cell_type": "code",
   "execution_count": 41,
   "metadata": {},
   "outputs": [],
   "source": [
    "#y_pred = clf.predict(X_test)"
   ]
  },
  {
   "cell_type": "code",
   "execution_count": 42,
   "metadata": {},
   "outputs": [],
   "source": [
    "#new_table = pd.DataFrame()"
   ]
  },
  {
   "cell_type": "code",
   "execution_count": 43,
   "metadata": {},
   "outputs": [],
   "source": [
    "#new_data['Class'] = list(y_pred)"
   ]
  },
  {
   "cell_type": "code",
   "execution_count": 44,
   "metadata": {},
   "outputs": [],
   "source": [
    "#new_data.head()"
   ]
  },
  {
   "cell_type": "markdown",
   "metadata": {},
   "source": [
    "## Saving the Test as CSV file"
   ]
  },
  {
   "cell_type": "code",
   "execution_count": 45,
   "metadata": {},
   "outputs": [],
   "source": [
    "#new_data.to_csv('Test.csv')"
   ]
  },
  {
   "cell_type": "markdown",
   "metadata": {},
   "source": [
    "### The End !"
   ]
  }
 ],
 "metadata": {
  "kernelspec": {
   "display_name": "Python 3 (ipykernel)",
   "language": "python",
   "name": "python3"
  },
  "language_info": {
   "codemirror_mode": {
    "name": "ipython",
    "version": 3
   },
   "file_extension": ".py",
   "mimetype": "text/x-python",
   "name": "python",
   "nbconvert_exporter": "python",
   "pygments_lexer": "ipython3",
   "version": "3.9.7"
  }
 },
 "nbformat": 4,
 "nbformat_minor": 4
}
